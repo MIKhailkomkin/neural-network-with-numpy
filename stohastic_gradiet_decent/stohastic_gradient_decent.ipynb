{
 "cells": [
  {
   "cell_type": "code",
   "execution_count": 498,
   "metadata": {},
   "outputs": [],
   "source": [
    "import pandas as pd\n",
    "import numpy as np "
   ]
  },
  {
   "cell_type": "code",
   "execution_count": 499,
   "metadata": {},
   "outputs": [
    {
     "data": {
      "text/html": [
       "<div>\n",
       "<style scoped>\n",
       "    .dataframe tbody tr th:only-of-type {\n",
       "        vertical-align: middle;\n",
       "    }\n",
       "\n",
       "    .dataframe tbody tr th {\n",
       "        vertical-align: top;\n",
       "    }\n",
       "\n",
       "    .dataframe thead th {\n",
       "        text-align: right;\n",
       "    }\n",
       "</style>\n",
       "<table border=\"1\" class=\"dataframe\">\n",
       "  <thead>\n",
       "    <tr style=\"text-align: right;\">\n",
       "      <th></th>\n",
       "      <th>9.48153782478</th>\n",
       "      <th>394.853786783</th>\n",
       "    </tr>\n",
       "  </thead>\n",
       "  <tbody>\n",
       "    <tr>\n",
       "      <th>949</th>\n",
       "      <td>0.697718</td>\n",
       "      <td>3.028376</td>\n",
       "    </tr>\n",
       "    <tr>\n",
       "      <th>798</th>\n",
       "      <td>5.092201</td>\n",
       "      <td>105.986716</td>\n",
       "    </tr>\n",
       "    <tr>\n",
       "      <th>15</th>\n",
       "      <td>1.455561</td>\n",
       "      <td>25.619563</td>\n",
       "    </tr>\n",
       "    <tr>\n",
       "      <th>152</th>\n",
       "      <td>5.029726</td>\n",
       "      <td>103.166574</td>\n",
       "    </tr>\n",
       "    <tr>\n",
       "      <th>56</th>\n",
       "      <td>8.623669</td>\n",
       "      <td>363.370539</td>\n",
       "    </tr>\n",
       "  </tbody>\n",
       "</table>\n",
       "</div>"
      ],
      "text/plain": [
       "     9.48153782478  394.853786783\n",
       "949       0.697718       3.028376\n",
       "798       5.092201     105.986716\n",
       "15        1.455561      25.619563\n",
       "152       5.029726     103.166574\n",
       "56        8.623669     363.370539"
      ]
     },
     "execution_count": 499,
     "metadata": {},
     "output_type": "execute_result"
    }
   ],
   "source": [
    "data = pd.read_csv('D:\\\\neural network with np\\\\stohastic_gradiet_decent\\\\data.csv')\n",
    "data.sample(5)"
   ]
  },
  {
   "cell_type": "code",
   "execution_count": 500,
   "metadata": {},
   "outputs": [
    {
     "data": {
      "text/plain": [
       "(999, 2)"
      ]
     },
     "execution_count": 500,
     "metadata": {},
     "output_type": "execute_result"
    }
   ],
   "source": [
    "data.shape"
   ]
  },
  {
   "cell_type": "markdown",
   "metadata": {},
   "source": [
    "$f(x) = ((a+\\varepsilon_a) \\cdot sin(x) + (b+ \\varepsilon_b)ln(x))^2 + (c + \\varepsilon_c)x^2$"
   ]
  },
  {
   "cell_type": "code",
   "execution_count": 501,
   "metadata": {},
   "outputs": [],
   "source": [
    "x = data['9.48153782478'].values\n",
    "f_true = data['394.853786783'].values"
   ]
  },
  {
   "cell_type": "code",
   "execution_count": 502,
   "metadata": {},
   "outputs": [],
   "source": [
    "data = data.rename(columns={'9.48153782478': 'x', '394.853786783': 'f(x)'})"
   ]
  },
  {
   "cell_type": "code",
   "execution_count": 503,
   "metadata": {},
   "outputs": [
    {
     "data": {
      "text/plain": [
       "9.96623861777"
      ]
     },
     "execution_count": 503,
     "metadata": {},
     "output_type": "execute_result"
    }
   ],
   "source": [
    "data['x'].max()\n"
   ]
  },
  {
   "cell_type": "code",
   "execution_count": 504,
   "metadata": {},
   "outputs": [],
   "source": [
    "x = data['x'].values\n",
    "f_true = data['f(x)'].values"
   ]
  },
  {
   "cell_type": "code",
   "execution_count": null,
   "metadata": {},
   "outputs": [],
   "source": [
    "batch_size = 32\n",
    "learning_rate = 0.000001\n",
    "num_epoch = 1500"
   ]
  },
  {
   "cell_type": "code",
   "execution_count": 506,
   "metadata": {},
   "outputs": [],
   "source": [
    "def calc(a, b, c, x):\n",
    "    return (a * np.sin(x) + b * np.log(x))**2 + c * x**2"
   ]
  },
  {
   "cell_type": "code",
   "execution_count": 507,
   "metadata": {},
   "outputs": [],
   "source": [
    "a, b, c = np.random.rand(3) "
   ]
  },
  {
   "cell_type": "code",
   "execution_count": 508,
   "metadata": {},
   "outputs": [],
   "source": [
    "import warnings"
   ]
  },
  {
   "cell_type": "code",
   "execution_count": 509,
   "metadata": {},
   "outputs": [
    {
     "name": "stdout",
     "output_type": "stream",
     "text": [
      "1.37 0.87 4.63\n"
     ]
    }
   ],
   "source": [
    "for epoch in range(num_epoch):\n",
    "    indices = np.random.permutation(len(x))\n",
    "\n",
    "    for i in range(0, len(x), batch_size):\n",
    "        batch_indices = indices[i:i+batch_size]\n",
    "        x_batch = x[batch_indices]\n",
    "        \n",
    "        f_true_batch = f_true[batch_indices]\n",
    "        \n",
    "       \n",
    "        f_pred_batch = calc(a, b, c, x_batch)\n",
    "\n",
    "       \n",
    "        grad_a = 2 * np.mean((f_pred_batch - f_true_batch) * np.sin(x_batch))\n",
    "        grad_b = 2 * np.mean((f_pred_batch - f_true_batch) * np.log(x_batch))\n",
    "        grad_c = 2 * np.mean((f_pred_batch - f_true_batch) * x_batch**2)\n",
    "        \n",
    "        a -= learning_rate * grad_a\n",
    "        b -= learning_rate * grad_b\n",
    "        c -= learning_rate * grad_c\n",
    "print(f\"{a:.2f} {b:.2f} {c:.2f}\")"
   ]
  },
  {
   "cell_type": "markdown",
   "metadata": {},
   "source": []
  }
 ],
 "metadata": {
  "kernelspec": {
   "display_name": "Python 3",
   "language": "python",
   "name": "python3"
  },
  "language_info": {
   "codemirror_mode": {
    "name": "ipython",
    "version": 3
   },
   "file_extension": ".py",
   "mimetype": "text/x-python",
   "name": "python",
   "nbconvert_exporter": "python",
   "pygments_lexer": "ipython3",
   "version": "3.12.0"
  }
 },
 "nbformat": 4,
 "nbformat_minor": 2
}
